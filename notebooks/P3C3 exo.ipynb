{
  "cells": [
    {
      "cell_type": "markdown",
      "metadata": {
        "id": "WPfgNNnllJtq"
      },
      "source": [
        "![openclassrooms](https://s3.eu-west-1.amazonaws.com/course.oc-static.com/courses/6204541/1+HnqdJ-5ofxiPP9HIxdNdpw.jpeg)\n",
        "\n",
        "# Initiez-vous à Python pour l'analyse de données\n",
        "\n",
        "## Choisissez la boucle adéquate\n",
        "\n",
        "<br><br>\n",
        "\n",
        "**La boucle WHILE : “bouclez” selon une condition**\n",
        "\n",
        "Créez une boucle `for` qui va afficher : 'OpenClassRooms est vraiment top !' 5 fois"
      ]
    },
    {
      "cell_type": "code",
      "execution_count": 2,
      "metadata": {
        "colab": {
          "base_uri": "https://localhost:8080/"
        },
        "id": "IHSfQ_pwlJts",
        "outputId": "978485dc-a8b7-44b4-e924-908064df02aa"
      },
      "outputs": [
        {
          "output_type": "stream",
          "name": "stdout",
          "text": [
            "OpenClassRoom est vraiment top!\n",
            "OpenClassRoom est vraiment top!\n",
            "OpenClassRoom est vraiment top!\n",
            "OpenClassRoom est vraiment top!\n",
            "OpenClassRoom est vraiment top!\n"
          ]
        }
      ],
      "source": [
        "for elt in range(0,5,1):\n",
        "    print('OpenClassRoom est vraiment top!')"
      ]
    },
    {
      "cell_type": "markdown",
      "metadata": {
        "id": "8yJ0V-1olJts"
      },
      "source": [
        "Changez votre boucle `for` par une boucle `while` :"
      ]
    },
    {
      "cell_type": "code",
      "execution_count": 5,
      "metadata": {
        "colab": {
          "base_uri": "https://localhost:8080/"
        },
        "id": "lWdxSpAllJtt",
        "outputId": "cc1c5a5e-478b-41f5-cb83-0eb738fb08b6"
      },
      "outputs": [
        {
          "output_type": "stream",
          "name": "stdout",
          "text": [
            "OpenClassRoom est vraiment top!\n",
            "OpenClassRoom est vraiment top!\n",
            "OpenClassRoom est vraiment top!\n",
            "OpenClassRoom est vraiment top!\n",
            "OpenClassRoom est vraiment top!\n"
          ]
        }
      ],
      "source": [
        "elt = 0\n",
        "while elt < 5:\n",
        "  print('OpenClassRoom est vraiment top!')\n",
        "  elt +=1\n"
      ]
    }
  ],
  "metadata": {
    "kernelspec": {
      "display_name": "Python 3",
      "language": "python",
      "name": "python3"
    },
    "language_info": {
      "codemirror_mode": {
        "name": "ipython",
        "version": 3
      },
      "file_extension": ".py",
      "mimetype": "text/x-python",
      "name": "python",
      "nbconvert_exporter": "python",
      "pygments_lexer": "ipython3",
      "version": "3.8.5"
    },
    "colab": {
      "provenance": []
    }
  },
  "nbformat": 4,
  "nbformat_minor": 0
}