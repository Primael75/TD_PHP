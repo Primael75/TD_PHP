{
  "cells": [
    {
      "cell_type": "markdown",
      "metadata": {
        "id": "4JPPON3tfwp4"
      },
      "source": [
        "![openclassrooms](https://s3.eu-west-1.amazonaws.com/course.oc-static.com/courses/6204541/1+HnqdJ-5ofxiPP9HIxdNdpw.jpeg)\n",
        "\n",
        "# Initiez-vous à Python pour l'analyse de données\n",
        "\n",
        "## Contrôlez votre code grâce aux structures conditionnelles\n",
        "\n",
        "<br><br>\n",
        "\n",
        "**Gérez un enchaînement de conditions**\n",
        "\n",
        "Exécutez le code suivant :"
      ]
    },
    {
      "cell_type": "code",
      "execution_count": null,
      "metadata": {
        "id": "ElgESfZ4fwp7",
        "outputId": "ce0fe638-4aaa-4fe4-c611-1415bba6f468"
      },
      "outputs": [
        {
          "name": "stdout",
          "output_type": "stream",
          "text": [
            "c est entre a et b\n"
          ]
        }
      ],
      "source": [
        "a = 5\n",
        "b = 10\n",
        "c = 7\n",
        "\n",
        "if c < a :\n",
        "    print(\"c est plus petit que a\")\n",
        "\n",
        "if c > b :\n",
        "    print(\"c est plus grand que b\")\n",
        "\n",
        "if c > a and c < b :\n",
        "    print(\"c est entre a et b\")\n"
      ]
    },
    {
      "cell_type": "markdown",
      "metadata": {
        "id": "24bHmO7yfwp8"
      },
      "source": [
        "A présent, reprenez le code ci dessus, en remplaçant les 3 `if` avec une structure de type `if` / `elif` / `else` plus adaptée. L'affichage au final doit être identique !"
      ]
    },
    {
      "cell_type": "code",
      "execution_count": 1,
      "metadata": {
        "id": "dw7vMLDgfwp9",
        "outputId": "2cfba23b-ace0-4347-e85d-7e988c01a1f4",
        "colab": {
          "base_uri": "https://localhost:8080/"
        }
      },
      "outputs": [
        {
          "output_type": "stream",
          "name": "stdout",
          "text": [
            " c est entre a et b\n"
          ]
        }
      ],
      "source": [
        "a = 5\n",
        "b = 10\n",
        "c = 7\n",
        "\n",
        "if c < a :\n",
        "    print ('c est plus petit que  a')\n",
        "\n",
        "elif c > b:\n",
        "    print(' c esyt plus grand que b')\n",
        "\n",
        "else :\n",
        "    print(' c est entre a et b')"
      ]
    }
  ],
  "metadata": {
    "kernelspec": {
      "display_name": "Python 3",
      "language": "python",
      "name": "python3"
    },
    "language_info": {
      "codemirror_mode": {
        "name": "ipython",
        "version": 3
      },
      "file_extension": ".py",
      "mimetype": "text/x-python",
      "name": "python",
      "nbconvert_exporter": "python",
      "pygments_lexer": "ipython3",
      "version": "3.8.5"
    },
    "colab": {
      "provenance": []
    }
  },
  "nbformat": 4,
  "nbformat_minor": 0
}