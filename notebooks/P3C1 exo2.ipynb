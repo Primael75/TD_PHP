{
  "cells": [
    {
      "cell_type": "markdown",
      "metadata": {
        "id": "zH9bZNBm1ZYI"
      },
      "source": [
        "![openclassrooms](https://s3.eu-west-1.amazonaws.com/course.oc-static.com/courses/6204541/1+HnqdJ-5ofxiPP9HIxdNdpw.jpeg)\n",
        "\n",
        "# Initiez-vous à Python pour l'analyse de données\n",
        "\n",
        "## Créez des tableaux pour stocker vos variables\n",
        "\n",
        "<br><br>\n",
        "\n",
        "**Ajouter des éléments à une liste**\n",
        "\n",
        "Remplacez les **??** par le code adéquat pour créer une liste vide :"
      ]
    },
    {
      "cell_type": "code",
      "execution_count": 7,
      "metadata": {
        "id": "yEm9UwmH1ZYL"
      },
      "outputs": [],
      "source": [
        "invites = []"
      ]
    },
    {
      "cell_type": "markdown",
      "metadata": {
        "id": "8Rk9nDWH1ZYN"
      },
      "source": [
        "Ajoutez 3 invités à la liste : Joey, Martin et Marie"
      ]
    },
    {
      "cell_type": "code",
      "execution_count": 8,
      "metadata": {
        "id": "8JTygqEn1ZYO"
      },
      "outputs": [],
      "source": [
        "invites.append('Joey')\n",
        "invites.append('Martin')\n",
        "invites.append('Marie')"
      ]
    },
    {
      "cell_type": "markdown",
      "metadata": {
        "id": "TLqArv3L1ZYO"
      },
      "source": [
        "Affichez la taille de la liste :"
      ]
    },
    {
      "cell_type": "code",
      "execution_count": 9,
      "metadata": {
        "id": "uL48GKfA1ZYO",
        "outputId": "578c4a88-280e-4bb4-e68c-ab9f7915ebaa",
        "colab": {
          "base_uri": "https://localhost:8080/"
        }
      },
      "outputs": [
        {
          "output_type": "execute_result",
          "data": {
            "text/plain": [
              "3"
            ]
          },
          "metadata": {},
          "execution_count": 9
        }
      ],
      "source": [
        "len(invites)"
      ]
    },
    {
      "cell_type": "markdown",
      "metadata": {
        "id": "RTndKwyN1ZYP"
      },
      "source": [
        "Remplacez Martin par John dans la liste :"
      ]
    },
    {
      "cell_type": "code",
      "execution_count": 10,
      "metadata": {
        "id": "PpxnC5761ZYP"
      },
      "outputs": [],
      "source": [
        "invites[1]='John'"
      ]
    },
    {
      "cell_type": "markdown",
      "metadata": {
        "id": "6sS_6IAg1ZYQ"
      },
      "source": [
        "Supprimez Joey de la liste :"
      ]
    },
    {
      "cell_type": "code",
      "execution_count": 11,
      "metadata": {
        "id": "sXk4J6z71ZYQ"
      },
      "outputs": [],
      "source": [
        "invites.remove('Joey')"
      ]
    },
    {
      "cell_type": "markdown",
      "metadata": {
        "id": "1z_KnCt11ZYQ"
      },
      "source": [
        "Affichez le contenu de la liste :"
      ]
    },
    {
      "cell_type": "code",
      "execution_count": 12,
      "metadata": {
        "id": "mfP0NJ6R1ZYQ",
        "outputId": "439a0dcd-9c20-4534-e6cb-9c27063b3aec",
        "colab": {
          "base_uri": "https://localhost:8080/"
        }
      },
      "outputs": [
        {
          "output_type": "stream",
          "name": "stdout",
          "text": [
            "John\n",
            "Marie\n"
          ]
        }
      ],
      "source": [
        "for invite in invites :\n",
        "    print(invite)"
      ]
    }
  ],
  "metadata": {
    "kernelspec": {
      "display_name": "Python 3",
      "language": "python",
      "name": "python3"
    },
    "language_info": {
      "codemirror_mode": {
        "name": "ipython",
        "version": 3
      },
      "file_extension": ".py",
      "mimetype": "text/x-python",
      "name": "python",
      "nbconvert_exporter": "python",
      "pygments_lexer": "ipython3",
      "version": "3.8.5"
    },
    "colab": {
      "provenance": []
    }
  },
  "nbformat": 4,
  "nbformat_minor": 0
}